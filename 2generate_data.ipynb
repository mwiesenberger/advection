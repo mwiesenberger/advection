{
 "cells": [
  {
   "cell_type": "markdown",
   "metadata": {},
   "source": [
    "Now we want to populate our data repository"
   ]
  },
  {
   "cell_type": "code",
   "execution_count": 1,
   "metadata": {},
   "outputs": [],
   "source": [
    "import json\n",
    "from netCDF4 import Dataset\n",
    "import matplotlib.pyplot as plt\n",
    "import numpy as np\n",
    "import simplesimdb as simplesim # this one is our own database manager\n",
    "import subprocess # to capture errors from the simulations\n",
    "import itertools"
   ]
  },
  {
   "cell_type": "code",
   "execution_count": 2,
   "metadata": {},
   "outputs": [],
   "source": [
    "m = simplesim.Manager(directory='advection', executable='./execute.sh', filetype='nc')"
   ]
  },
  {
   "cell_type": "code",
   "execution_count": 3,
   "metadata": {},
   "outputs": [],
   "source": [
    "init2x= {\"shear\":[0.0,6.283185307179586],\n",
    "         \"mms\": [-1.0,1.0]\n",
    "         }\n",
    "init2bc= {\"shear\":[\"PER\", \"PER\"],\n",
    "          \"mms\": [\"DIR\", \"PER\"]}\n",
    "\n",
    "init2init =  {\n",
    "    \"shear\": {\"type\": \"shear\", \"rho\": 0.20943951023931953, \"delta\": 0.2 },\n",
    "    \"mms\":   {\"type\": \"mms\", \"sigma\": 0.2, \"velocity\": 1.0}\n",
    "}\n",
    "\n",
    "n2v={\n",
    "     \"shear\": {\n",
    "    1:[144,1e-2],\n",
    "    3:[48, 5e-3],\n",
    "    4:[36, 2.5e-3],\n",
    "    5:[28, 2e-3],\n",
    "    7:[20, 1e-3]\n",
    "    },\n",
    "    \"mms\": {\n",
    "    1:[144,2e-2],\n",
    "    3:[48, 2e-3],\n",
    "    4:[36, 2e-3],\n",
    "    5:[28, 1e-3],\n",
    "    7:[20, 5e-4]\n",
    "    }\n",
    "}\n",
    "\n",
    "endtime = {\"shear\": 10, \"mms\": 1}\n",
    "\n",
    "maxout = {\"shear\": 40, \"mms\": 5}\n",
    "timefactor = {\"none\" : 1, \"modal\" : 2,\n",
    "              \"viscous\" : 1, \"hyperviscous\" : 1}\n",
    "reg2reg = {\"none\" : {\"type\" : \"none\"},\n",
    "           \"modal\" : {\"type\" : \"modal\", \"alpha\" : 36, \"order\" : 8, \"eta_c\" : 0.5},\n",
    "          \"viscous\": {\"type\" : \"viscosity\", \"order\" : 1, \"nu_perp\" : 1e-3},\n",
    "          \"hyperviscous\" : {\"type\": \"viscosity\", \"order\" : 2, \"nu_perp\" : 5e-4}\n",
    "          }"
   ]
  },
  {
   "cell_type": "code",
   "execution_count": 4,
   "metadata": {},
   "outputs": [],
   "source": [
    "def generate_standard_input( n, init, multiplication, advection, regularization) :\n",
    "    itstp=endtime[init]/maxout[init]/n2v[init][n][1]\n",
    "    if not itstp.is_integer() :\n",
    "        print(\"Warning: itstp is not an integer!\")\n",
    "    inputfile={\n",
    "        \"grid\":\n",
    "        {   \n",
    "            \"type\": \"Cartesian2d\",\n",
    "            \"n\"  : n,\n",
    "            \"Nx\" : n2v[init][n][0],\n",
    "            \"Ny\" : n2v[init][n][0],\n",
    "            \"x\": init2x[init],\n",
    "            \"y\": init2x[init],\n",
    "            \"bc\" : init2bc[init]\n",
    "        },\n",
    "        \"timestepper\":\n",
    "        {   \n",
    "            \"stepper\": \"FilteredMultistep\",\n",
    "            \"order\": [\"eBDF\", 3],\n",
    "            \"dt\" : n2v[init][n][1]\n",
    "        },\n",
    "        \"regularization\":  reg2reg[regularization],\n",
    "        \"output\":\n",
    "        {   \n",
    "            \"type\": \"netcdf\",\n",
    "            \"itstp\"   : int(itstp),\n",
    "            \"maxout\"  : int(maxout[init])\n",
    "        },\n",
    "        \"advection\":\n",
    "        {   \n",
    "            \"multiplication\": multiplication,\n",
    "            \"type\": advection\n",
    "        },\n",
    "        \"elliptic\":\n",
    "        {   \n",
    "            \"type\" : \"multigrid\",\n",
    "            \"stages\": 3,\n",
    "            \"eps_pol\" : [1e-6,10.0,10.0]\n",
    "        },\n",
    "        \"init\": init2init[init]\n",
    "    }\n",
    "    if regularization == \"viscous\" or regularization == \"hyperviscous\" :\n",
    "        inputfile[\"timestepper\"][\"stepper\"] = \"Karniadakis\"\n",
    "        inputfile[\"timestepper\"][\"order\"] = 3\n",
    "        inputfile[\"timestepper\"][\"eps_time\"] = 1e-9\n",
    "    return inputfile"
   ]
  },
  {
   "cell_type": "code",
   "execution_count": 5,
   "metadata": {},
   "outputs": [
    {
     "name": "stdout",
     "output_type": "stream",
     "text": [
      "(1, 'mms', 'pointwise', 'upwind', 'none')\n",
      "(1, 'mms', 'pointwise', 'upwind', 'modal')\n",
      "(1, 'mms', 'pointwise', 'upwind', 'viscous')\n",
      "(1, 'mms', 'projection', 'upwind', 'none')\n",
      "(1, 'mms', 'projection', 'upwind', 'modal')\n",
      "(1, 'mms', 'projection', 'upwind', 'viscous')\n",
      "(3, 'shear', 'pointwise', 'upwind', 'viscous')\n",
      "(3, 'shear', 'pointwise', 'upwind', 'hyperviscous')\n",
      "(3, 'shear', 'projection', 'upwind', 'viscous')\n",
      "(3, 'shear', 'projection', 'upwind', 'hyperviscous')\n",
      "(5, 'shear', 'projection', 'upwind', 'viscous')\n",
      "(7, 'shear', 'pointwise', 'arakawa', 'none')\n",
      "(7, 'shear', 'pointwise', 'arakawa', 'viscous')\n",
      "(7, 'shear', 'pointwise', 'upwind', 'viscous')\n",
      "(7, 'shear', 'pointwise', 'upwind', 'hyperviscous')\n",
      "(7, 'shear', 'projection', 'upwind', 'none')\n",
      "(7, 'shear', 'projection', 'upwind', 'modal')\n",
      "(7, 'shear', 'projection', 'upwind', 'viscous')\n",
      "(7, 'shear', 'projection', 'upwind', 'hyperviscous')\n"
     ]
    }
   ],
   "source": [
    "v_n=[1,3,4,5,7]\n",
    "v_init=[\"shear\", \"mms\"]\n",
    "v_multiplication=[\"pointwise\", \"projection\"]\n",
    "v_advection=[\"arakawa\",\"centered\",\"upwind\"]\n",
    "v_regularization=[\"none\", \"modal\", \"viscous\", \"hyperviscous\"]\n",
    "\n",
    "for t in itertools.product( v_n, v_init, v_multiplication, v_advection,\n",
    "                           v_regularization) :\n",
    "    inputfile = generate_standard_input( \n",
    "        n=t[0], init=t[1],multiplication=t[2],\n",
    "        advection=t[3],regularization=t[4])      \n",
    "\n",
    "    ncfile=''\n",
    "    # Check for existing data\n",
    "    if not m.exists(inputfile):\n",
    "        print(t)\n",
    "    # uncomment the following to create data\n",
    "    #try:\n",
    "    #    print(t)\n",
    "    #    ncfile=m.create(inputfile)\n",
    "    # the simulation may fail \n",
    "    #except subprocess.CalledProcessError as e:\n",
    "    #    print( e.stderr)\n",
    "    #print( ncfile)"
   ]
  },
  {
   "cell_type": "code",
   "execution_count": 7,
   "metadata": {
    "scrolled": true
   },
   "outputs": [
    {
     "name": "stdout",
     "output_type": "stream",
     "text": [
      "(3, 'shear', 'pointwise', 'arakawa', 'modal')\n",
      "(3, 'shear', 'pointwise', 'centered', 'modal')\n",
      "(3, 'shear', 'projection', 'arakawa', 'modal')\n",
      "(3, 'shear', 'projection', 'centered', 'modal')\n",
      "(4, 'shear', 'pointwise', 'arakawa', 'modal')\n",
      "(4, 'shear', 'pointwise', 'centered', 'modal')\n",
      "(4, 'shear', 'projection', 'arakawa', 'modal')\n",
      "(4, 'shear', 'projection', 'centered', 'modal')\n",
      "(5, 'shear', 'pointwise', 'arakawa', 'modal')\n",
      "(5, 'shear', 'pointwise', 'centered', 'modal')\n",
      "(5, 'shear', 'projection', 'arakawa', 'modal')\n",
      "(5, 'shear', 'projection', 'centered', 'modal')\n",
      "(7, 'shear', 'pointwise', 'arakawa', 'modal')\n",
      "(7, 'shear', 'pointwise', 'centered', 'modal')\n",
      "(7, 'shear', 'projection', 'arakawa', 'modal')\n",
      "(7, 'shear', 'projection', 'centered', 'modal')\n"
     ]
    }
   ],
   "source": [
    "# change the eta_c parameter to 0 for comparison\n",
    "v_n=[3,4,5,7]\n",
    "v_init=[\"shear\"]\n",
    "v_multiplication=[\"pointwise\",\"projection\"]\n",
    "v_advection=[\"arakawa\",\"centered\"]\n",
    "v_regularization=[ \"modal\"]\n",
    "\n",
    "for t in itertools.product( v_n, v_init, v_multiplication, v_advection,\n",
    "                           v_regularization) :\n",
    "    inputfile = generate_standard_input( \n",
    "        n=t[0], init=t[1],multiplication=t[2],\n",
    "        advection=t[3],regularization=t[4] ) \n",
    "    inputfile[\"regularization\"][\"eta_c\"] = float(0)\n",
    "\n",
    "    ncfile=''\n",
    "    try:\n",
    "        print(t)\n",
    "        ncfile=m.create(inputfile)\n",
    "    # the simulation may fail \n",
    "    except subprocess.CalledProcessError as e:\n",
    "        print( e.stderr)"
   ]
  },
  {
   "cell_type": "code",
   "execution_count": null,
   "metadata": {},
   "outputs": [],
   "source": []
  }
 ],
 "metadata": {
  "kernelspec": {
   "display_name": "Python 3",
   "language": "python",
   "name": "python3"
  },
  "language_info": {
   "codemirror_mode": {
    "name": "ipython",
    "version": 3
   },
   "file_extension": ".py",
   "mimetype": "text/x-python",
   "name": "python",
   "nbconvert_exporter": "python",
   "pygments_lexer": "ipython3",
   "version": "3.8.3"
  }
 },
 "nbformat": 4,
 "nbformat_minor": 4
}
