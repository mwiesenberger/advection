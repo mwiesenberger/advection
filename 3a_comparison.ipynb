{
 "cells": [
  {
   "cell_type": "markdown",
   "metadata": {},
   "source": [
    "We want to analyse and compare the data in the repository now"
   ]
  },
  {
   "cell_type": "code",
   "execution_count": 1,
   "metadata": {
    "tags": [
     "remove-cell"
    ]
   },
   "outputs": [],
   "source": [
    "import json\n",
    "from netCDF4 import Dataset\n",
    "import matplotlib.pyplot as plt\n",
    "import numpy as np\n",
    "import simplesimdb as simplesim # this one is our own database manager\n",
    "import itertools\n",
    "import pandas as pd\n",
    "pd.set_option('display.float_format', lambda x: '%.2e' % x)"
   ]
  },
  {
   "cell_type": "code",
   "execution_count": 2,
   "metadata": {
    "tags": [
     "remove-cell"
    ]
   },
   "outputs": [],
   "source": [
    "m = simplesim.Manager(directory='advection', executable='./execute.sh', filetype='nc')\n",
    "content = m.table()"
   ]
  },
  {
   "cell_type": "code",
   "execution_count": 3,
   "metadata": {
    "tags": [
     "remove-cell"
    ]
   },
   "outputs": [],
   "source": [
    "# Construct the Gaussian weights on our grids\n",
    "def gauss_weights( js) :\n",
    "    n = js[\"n\"]\n",
    "    Nx = js[\"Nx\"]\n",
    "    Ny = js[\"Ny\"]\n",
    "    lx = js[\"x\"][1]-js[\"x\"][0]\n",
    "    ly = js[\"y\"][1]-js[\"y\"][0]\n",
    "    hx = lx/Nx\n",
    "    hy = ly/Ny\n",
    "    (x,w) = np.polynomial.legendre.leggauss(js[\"n\"])\n",
    "    weights1dX = np.tile( w, js[\"Nx\"])\n",
    "    weights1dY = np.tile( w, js[\"Ny\"])\n",
    "    return np.reshape( np.kron( weights1dY, weights1dX)*hy/2.0*hx/2.0 , (js[\"n\"]*js[\"Ny\"], js[\"n\"]*js[\"Nx\"]))"
   ]
  },
  {
   "cell_type": "code",
   "execution_count": 4,
   "metadata": {
    "tags": [
     "remove-cell"
    ]
   },
   "outputs": [
    {
     "ename": "OSError",
     "evalue": "[Errno -101] NetCDF: HDF error: b'advection/3f686dca115ea42d019f86db2d4215b0a05815a3.nc'",
     "output_type": "error",
     "traceback": [
      "\u001b[0;31m---------------------------------------------------------------------------\u001b[0m",
      "\u001b[0;31mOSError\u001b[0m                                   Traceback (most recent call last)",
      "\u001b[0;32m<ipython-input-4-b72859b1528b>\u001b[0m in \u001b[0;36m<module>\u001b[0;34m\u001b[0m\n\u001b[1;32m      2\u001b[0m \u001b[0mlast_out\u001b[0m \u001b[0;34m=\u001b[0m \u001b[0mlist\u001b[0m\u001b[0;34m(\u001b[0m\u001b[0;34m)\u001b[0m\u001b[0;34m\u001b[0m\u001b[0;34m\u001b[0m\u001b[0m\n\u001b[1;32m      3\u001b[0m \u001b[0;32mfor\u001b[0m \u001b[0mf\u001b[0m \u001b[0;32min\u001b[0m \u001b[0mcontent\u001b[0m \u001b[0;34m:\u001b[0m\u001b[0;34m\u001b[0m\u001b[0;34m\u001b[0m\u001b[0m\n\u001b[0;32m----> 4\u001b[0;31m     \u001b[0mncin\u001b[0m \u001b[0;34m=\u001b[0m \u001b[0mDataset\u001b[0m\u001b[0;34m(\u001b[0m \u001b[0mm\u001b[0m\u001b[0;34m.\u001b[0m\u001b[0mselect\u001b[0m\u001b[0;34m(\u001b[0m\u001b[0mf\u001b[0m\u001b[0;34m)\u001b[0m\u001b[0;34m,\u001b[0m \u001b[0;34m'r'\u001b[0m\u001b[0;34m,\u001b[0m \u001b[0mformat\u001b[0m\u001b[0;34m=\u001b[0m\u001b[0;34m\"NETCDF4\"\u001b[0m\u001b[0;34m)\u001b[0m\u001b[0;34m\u001b[0m\u001b[0;34m\u001b[0m\u001b[0m\n\u001b[0m\u001b[1;32m      5\u001b[0m     \u001b[0;31m# time, xc, yc, vorticity, potential,\u001b[0m\u001b[0;34m\u001b[0m\u001b[0;34m\u001b[0m\u001b[0;34m\u001b[0m\u001b[0m\n\u001b[1;32m      6\u001b[0m     \u001b[0;31m# error(t), time_per_step(t), energy_1d(t), enstrophy_1d(t), vorticity_1d(t)\u001b[0m\u001b[0;34m\u001b[0m\u001b[0;34m\u001b[0m\u001b[0;34m\u001b[0m\u001b[0m\n",
      "\u001b[0;32mnetCDF4/_netCDF4.pyx\u001b[0m in \u001b[0;36mnetCDF4._netCDF4.Dataset.__init__\u001b[0;34m()\u001b[0m\n",
      "\u001b[0;32mnetCDF4/_netCDF4.pyx\u001b[0m in \u001b[0;36mnetCDF4._netCDF4._ensure_nc_success\u001b[0;34m()\u001b[0m\n",
      "\u001b[0;31mOSError\u001b[0m: [Errno -101] NetCDF: HDF error: b'advection/3f686dca115ea42d019f86db2d4215b0a05815a3.nc'"
     ]
    }
   ],
   "source": [
    "# Let's creat a nice lookup table in pandas and also add some diagnostics\n",
    "last_out = list()\n",
    "for f in content :\n",
    "    ncin = Dataset( m.select(f), 'r', format=\"NETCDF4\")\n",
    "    # time, xc, yc, vorticity, potential,\n",
    "    # error(t), time_per_step(t), energy_1d(t), enstrophy_1d(t), vorticity_1d(t)\n",
    "    max_idx = ncin.variables[\"time\"].shape[0]-1\n",
    "    vo = ncin[\"vorticity\"][:,:,:]\n",
    "    weights = gauss_weights( f[\"grid\"])\n",
    "    tps = ncin[\"time_per_step\"][:]\n",
    "    ene = ncin[\"energy_1d\"][:]\n",
    "    ens = ncin[\"enstrophy_1d\"][:]\n",
    "    vor = ncin[\"vorticity_1d\"][:]\n",
    "    vor20 = 1./2.*np.sum( vo[0,:,:]**2*weights )\n",
    "    vor21 = 1./2.*np.sum( vo[max_idx,:,:]**2*weights )\n",
    "    vor40 = 1./4.*np.sum( vo[0,:,:]**4*weights )\n",
    "    vor41 = 1./4.*np.sum( vo[max_idx,:,:]**4*weights )\n",
    "    vor60 = 1./6.*np.sum( vo[0,:,:]**6*weights )\n",
    "    vor61 = 1./6.*np.sum( vo[max_idx,:,:]**6*weights )\n",
    "    e = dict()\n",
    "    e[\"id\"] = m.hashinput(f)\n",
    "    e[\"error\"] = {\"solution\" : float(ncin[\"error\"][max_idx])}\n",
    "    e[\"error\"][\"vorticity2\"] = abs( vor20-vor21)/vor20 # same as enstrophy\n",
    "    e[\"error\"][\"vorticity4\"] = abs( vor40-vor41)/vor40 \n",
    "    e[\"error\"][\"vorticity6\"] = abs( vor60-vor61)/vor60 \n",
    "    e[\"error\"][\"enstrophy\"] = abs(ens[max_idx]-ens[0])/ens[0]\n",
    "    e[\"error\"][\"energy\"] = abs(ene[max_idx]-ene[0])/ene[0]\n",
    "    e[\"error\"][\"vorticity\"] = abs(vor[max_idx]-vor[0])\n",
    "    \n",
    "    e[\"time_to_solution\"] = np.sum(tps)*float(f[\"output\"][\"itstp\"])\n",
    "    last_out.append(e)"
   ]
  },
  {
   "cell_type": "code",
   "execution_count": null,
   "metadata": {
    "scrolled": true,
    "tags": [
     "remove-cell"
    ]
   },
   "outputs": [],
   "source": [
    "df = pd.json_normalize( last_out)\n",
    "df.set_index( \"id\", inplace=True)\n",
    "df"
   ]
  },
  {
   "cell_type": "code",
   "execution_count": null,
   "metadata": {
    "tags": [
     "remove-cell"
    ]
   },
   "outputs": [],
   "source": [
    "def plot (f, save) :\n",
    "    ncin = Dataset( m.select(f), 'r', format=\"NETCDF4\")\n",
    "    # time, xc, yc, vorticity, potential,\n",
    "    # error(t), time_per_step(t), energy_1d(t), enstrophy_1d(t), vorticity_1d(t)\n",
    "    max_idx = ncin.variables[\"time\"].shape[0]-1\n",
    "    xc = ncin[\"xc\"][:,:]\n",
    "    yc = ncin[\"yc\"][:,:]\n",
    "    vo = ncin[\"vorticity\"][max_idx,:,:]\n",
    "    po = ncin[\"potential\"][max_idx,:,:]\n",
    "    time = ncin[\"time\"][:]\n",
    "    max_idx = np.size( time)-1\n",
    "    fig,ax=plt.subplots(1,2,figsize=(2*4,4),dpi= 80, facecolor='w', edgecolor='k')\n",
    "\n",
    "    ax[0].pcolormesh(xc,yc,vo, vmin=-7, vmax=7, shading='gouraud', cmap='seismic' )\n",
    "    ax[0].set_title( f[\"grid\"][\"n\"])\n",
    "    ax[0].axis('scaled')\n",
    "    viscous = f[\"regularization\"][\"type\"] == \"viscosity\"\n",
    "    modal  = f[\"regularization\"][\"type\"] == \"modal\"\n",
    "    mms = f[\"init\"][\"type\"] == \"mms\"\n",
    "    hashed = m.hashinput(f)\n",
    "    textstr = '\\n'.join((\n",
    "    r'$%.d \\times %.d \\times %d $' % (f[\"grid\"][\"n\"], f[\"grid\"][\"Nx\"],\n",
    "                                      f[\"output\"][\"itstp\"]*f[\"output\"][\"maxout\"] ),\n",
    "    #r'$n=%.d\\ N=%.d$' % (f[\"grid\"][\"n\"], f[\"grid\"][\"Nx\"] ),\n",
    "    r'$\\varepsilon=%.2e$' % (df.loc[hashed,\"error.solution\"] ) if mms else '',\n",
    "    r'$\\varepsilon_E=%.2e$' % (df.loc[hashed,\"error.energy\"] ),\n",
    "    r'$\\varepsilon_V=%.2e$' % (df.loc[hashed,\"error.vorticity\"] ),\n",
    "    r'$\\varepsilon_{V2}=%.2e$' % (df.loc[hashed,\"error.vorticity2\"] ),\n",
    "    r'$\\varepsilon_{V4}=%.2e$' % (df.loc[hashed,\"error.vorticity4\"] ),\n",
    "    r'$\\varepsilon_{V6}=%.2e$' % (df.loc[hashed,\"error.vorticity6\"] ),   \n",
    "    r'$T_\\mathrm{sim}=%.2f$' % (df.loc[hashed,\"time_to_solution\"] ),\n",
    "        '',\n",
    "    'multiplication: ' + f[\"advection\"][\"multiplication\"] ,\n",
    "    'advection      : ' + f[\"advection\"][\"type\"] ,\n",
    "    'regularization: ' + f[\"regularization\"][\"type\"] + (\n",
    "        \"(\"+str(f[\"regularization\"][\"order\"])+\")\"  if viscous else \n",
    "        r\"$\\ (\\eta_c=%.1f$\"%f[\"regularization\"][\"eta_c\"]+\")\" if modal else \"\"\n",
    "    ), \n",
    "    ))\n",
    "    props = dict(boxstyle='round', facecolor='white', alpha=0.5)\n",
    "    ax[1].text(0.05, 0.95, textstr, transform=ax[1].transAxes, fontsize=12,\n",
    "        verticalalignment='top', bbox=props)\n",
    "    #ax[1].set_title( f[\"grid\"][\"n\"])\n",
    "    ax[1].axis('off')\n",
    "    if save :\n",
    "        plt.savefig( \"advection/\"+hashed+\".png\",bbox_inches='tight')\n",
    "        plt.close()\n",
    "    else :\n",
    "        pass"
   ]
  },
  {
   "cell_type": "code",
   "execution_count": null,
   "metadata": {
    "tags": [
     "remov-cell"
    ]
   },
   "outputs": [],
   "source": [
    "# PLOT ALL INTO FILE\n",
    "#for f in content:\n",
    "#    plot(f,True)"
   ]
  },
  {
   "cell_type": "markdown",
   "metadata": {},
   "source": [
    "Let us now tell a story\n",
    "\n",
    "## No regularization"
   ]
  },
  {
   "cell_type": "code",
   "execution_count": null,
   "metadata": {
    "tags": [
     "hide-input"
    ]
   },
   "outputs": [],
   "source": [
    "found = list(filter( lambda entry : (\n",
    "            entry[\"init\"][\"type\"] == \"shear\"\n",
    "        and entry[\"advection\"] == {\"multiplication\": \"pointwise\", \"type\" : \"arakawa\"}\n",
    "        and entry[\"regularization\"][\"type\"] == \"none\"\n",
    "        and (entry[\"grid\"][\"n\"] == 1 or entry[\"grid\"][\"n\"] == 3)\n",
    "       ),\n",
    "    content))\n",
    "found.sort( key = lambda f : f[\"grid\"][\"n\"]) # SORT ACCORDING TO N\n",
    "for f in found:\n",
    "    plot(f, False)"
   ]
  },
  {
   "cell_type": "markdown",
   "metadata": {},
   "source": [
    "- The Arakawa scheme without regularization is always unstable!!\n",
    "- Note that the higher order simulation takes 5-6 times longer to complete"
   ]
  },
  {
   "cell_type": "code",
   "execution_count": null,
   "metadata": {
    "tags": [
     "hide-input"
    ]
   },
   "outputs": [],
   "source": [
    "found = list(filter( lambda entry : (\n",
    "            entry[\"init\"][\"type\"] == \"shear\"\n",
    "        and entry[\"advection\"] == {\"multiplication\": \"pointwise\", \"type\" : \"centered\"}\n",
    "        and entry[\"regularization\"][\"type\"] == \"none\" # and entry[\"regularization\"][\"order\"] == 2):\n",
    "        and (entry[\"grid\"][\"n\"] == 1 or entry[\"grid\"][\"n\"] == 5)\n",
    "       ),\n",
    "    content))\n",
    "found.sort( key = lambda f : f[\"grid\"][\"n\"]) # SORT ACCORDING TO N\n",
    "for f in found:\n",
    "    plot(f, False)"
   ]
  },
  {
   "cell_type": "markdown",
   "metadata": {},
   "source": [
    "Just as the centered scheme is"
   ]
  },
  {
   "cell_type": "code",
   "execution_count": null,
   "metadata": {
    "tags": [
     "hide-input"
    ]
   },
   "outputs": [],
   "source": [
    "found = list(filter( lambda entry : (\n",
    "            entry[\"init\"][\"type\"] == \"shear\"\n",
    "        and entry[\"advection\"] == {\"multiplication\": \"pointwise\", \"type\" : \"upwind\"}\n",
    "        and entry[\"regularization\"][\"type\"] == \"none\" # and entry[\"regularization\"][\"order\"] == 2):\n",
    "        and (entry[\"grid\"][\"n\"] == 1 or entry[\"grid\"][\"n\"] == 3 or entry[\"grid\"][\"n\"] == 5)\n",
    "       ),\n",
    "    content))\n",
    "found.sort( key = lambda f : f[\"grid\"][\"n\"]) # SORT ACCORDING TO N\n",
    "for f in found:\n",
    "    plot(f, False)"
   ]
  },
  {
   "cell_type": "markdown",
   "metadata": {},
   "source": [
    "The upwind scheme of first order introduces a lot of numerical diffusion, while the higher order schemes with pointwise multiplication seem to be unstable at symmetry points"
   ]
  },
  {
   "cell_type": "code",
   "execution_count": null,
   "metadata": {
    "tags": [
     "hide-input"
    ]
   },
   "outputs": [],
   "source": [
    "found = list(filter( lambda entry : (\n",
    "            entry[\"init\"][\"type\"] == \"shear\"\n",
    "        and entry[\"advection\"] == {\"multiplication\": \"projection\", \"type\" : \"upwind\"}\n",
    "        and entry[\"regularization\"][\"type\"] == \"none\" # and entry[\"regularization\"][\"order\"] == 2):\n",
    "        and (entry[\"grid\"][\"n\"] == 3 or entry[\"grid\"][\"n\"] == 5)\n",
    "       ),\n",
    "    content))\n",
    "found.sort( key = lambda f : f[\"grid\"][\"n\"]) # SORT ACCORDING TO N\n",
    "for f in found:\n",
    "    plot(f, False)"
   ]
  },
  {
   "cell_type": "markdown",
   "metadata": {},
   "source": [
    "Only the upwind scheme with correct multiplication and projection of polynomials seems to work reliably without regularization. Only small oscillations are visible."
   ]
  },
  {
   "cell_type": "markdown",
   "metadata": {},
   "source": [
    "## Modal filtering"
   ]
  },
  {
   "cell_type": "code",
   "execution_count": null,
   "metadata": {
    "tags": [
     "hide-input"
    ]
   },
   "outputs": [],
   "source": [
    "found = list(filter( lambda entry : (\n",
    "            entry[\"init\"][\"type\"] == \"shear\"\n",
    "        and entry[\"advection\"] == {\"multiplication\": \"projection\", \"type\" : \"upwind\"}\n",
    "        and ( #(entry[\"regularization\"][\"type\"] == \"modal\" and entry[\"regularization\"][\"eta_c\"] == 0.0)\n",
    "             (entry[\"regularization\"][\"type\"] == \"modal\" and entry[\"regularization\"][\"eta_c\"] == 0.5)\n",
    "            )\n",
    "        and (entry[\"grid\"][\"n\"] == 3 or entry[\"grid\"][\"n\"] == 5)\n",
    "       ),\n",
    "    content))\n",
    "found.sort( key = lambda f : f[\"grid\"][\"n\"]) # SORT ACCORDING TO N\n",
    "for f in found:\n",
    "    plot(f, False)"
   ]
  },
  {
   "cell_type": "markdown",
   "metadata": {},
   "source": [
    "- The modal Filter introduces numerical diffusion but seems to have troubles at the symmetry points\n",
    "- also true for $\\eta_c = 0$ filter and the pointwise method"
   ]
  },
  {
   "cell_type": "code",
   "execution_count": null,
   "metadata": {
    "tags": [
     "hide_input"
    ]
   },
   "outputs": [],
   "source": [
    "found = list(filter( lambda entry : (\n",
    "            entry[\"init\"][\"type\"] == \"shear\"\n",
    "        and (entry[\"advection\"] == {\"multiplication\": \"pointwise\", \"type\" : \"arakawa\"})\n",
    "            #or entry[\"advection\"] == {\"multiplication\": \"projection\", \"type\" : \"centered\"})\n",
    "        and ( (entry[\"regularization\"][\"type\"] == \"modal\" and entry[\"regularization\"][\"eta_c\"] == 0.0)\n",
    "             or (entry[\"regularization\"][\"type\"] == \"modal\" and entry[\"regularization\"][\"eta_c\"] == 0.5)\n",
    "             or entry[\"regularization\"][\"type\"] == \"none\")\n",
    "        and (entry[\"grid\"][\"n\"] == 5)\n",
    "       ),\n",
    "    content))\n",
    "found.sort( key = lambda f : f[\"grid\"][\"n\"]) # SORT ACCORDING TO N\n",
    "for f in found:\n",
    "    plot(f, False)"
   ]
  },
  {
   "cell_type": "markdown",
   "metadata": {},
   "source": [
    "- The modal filter with $\\eta_c=0.5$, $s=8$ and $\\alpha=36$ improves the oscillations in the Arakawa scheme but does not entirely remove them\n",
    "- The modal filter with $\\eta_c=0.0$, $s=8$ and $\\alpha=36$ further dampens the oscillations but overdampens the vortex structure while still having trouble at the symmetry points\n",
    "- This situation is the same for the projection and the centered methods"
   ]
  },
  {
   "cell_type": "markdown",
   "metadata": {},
   "source": [
    "## Viscosity and hyperviscosity"
   ]
  },
  {
   "cell_type": "code",
   "execution_count": null,
   "metadata": {},
   "outputs": [],
   "source": []
  }
 ],
 "metadata": {
  "celltoolbar": "Tags",
  "kernelspec": {
   "display_name": "Python 3",
   "language": "python",
   "name": "python3"
  },
  "language_info": {
   "codemirror_mode": {
    "name": "ipython",
    "version": 3
   },
   "file_extension": ".py",
   "mimetype": "text/x-python",
   "name": "python",
   "nbconvert_exporter": "python",
   "pygments_lexer": "ipython3",
   "version": "3.8.3"
  }
 },
 "nbformat": 4,
 "nbformat_minor": 4
}
